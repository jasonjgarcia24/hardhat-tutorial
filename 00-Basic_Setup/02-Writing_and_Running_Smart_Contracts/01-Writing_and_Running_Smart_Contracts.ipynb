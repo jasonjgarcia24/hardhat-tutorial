{
 "cells": [
  {
   "cell_type": "markdown",
   "id": "0071f176",
   "metadata": {},
   "source": [
    "# Writing and Running Smart Contracts\n",
    "******\n",
    "## Cotents<a id=\"Contents\">\n",
    "[Write a Token Smart Contract](#Write-a-Token-Smart-Contract)<br>\n",
    "[Compile the Smart Contract](#Compile-the-Smart-Contract)<br>\n",
    "[Bottom of Page](#Bottom-of-Page)<br>\n",
    "\n",
    "***"
   ]
  },
  {
   "cell_type": "markdown",
   "id": "2e290f75",
   "metadata": {},
   "source": [
    "## Write a Token Smart Contract<a id=\"Write-a-Token-Smart-Contract\">\n",
    "- Create a new directory called <code>contracts</code> and create a file inside the directory called <code>Token.sol</code>\n",
    "\n",
    "<img src=\"./img/Token_sol_creation.png\" alt=\"create Token.sol\"><br>\n",
    "- Use the following solidity code:<br>\n",
    "```solidity\n",
    "    // SPDX-License-Identifier: MIT\n",
    "    pragma solidity ^0.7.0;\n",
    "\n",
    "    // This is the main building block for smart contracts.\n",
    "    contract Token {\n",
    "        // Some string type variables to identify the token.\n",
    "        // The `public` modifier makes a variable readable from\n",
    "        // outside the contract.\n",
    "        string public name = \"My Hardhat Token\";\n",
    "        string public symbol = \"MHT\";\n",
    "\n",
    "        // The fixed amount of tokens stored in an unsigned integer type variable.\n",
    "        uint256 public totalSupply = 1000000;\n",
    "\n",
    "        // An address type variable is used to store ethereum accounts.\n",
    "        address public owner;\n",
    "\n",
    "        // A mapping is a key/value map. Here we store each account balance.\n",
    "        mapping(address => uint256) balances;\n",
    "\n",
    "        /**\n",
    "         * Contract initialization.\n",
    "         *\n",
    "         * The `constructor` is executed only once when the contract is created.\n",
    "         */\n",
    "        constructor() {\n",
    "            // The totalSupply is assigned to transaction sender,\n",
    "            // which is the account\n",
    "            // that deployed the contract.\n",
    "            balances[msg.sender] = totalSupply;\n",
    "            owner = msg.sender;\n",
    "        }\n",
    "\n",
    "        /**\n",
    "         * A function to transfer tokens.\n",
    "         *\n",
    "         * The `external` modifier makes a function *only* callable from outside\n",
    "         * the contract.\n",
    "         */\n",
    "        function transfer(address to, uint256 amount) external {\n",
    "            // Chenck if the transaction sender has enough tokens.\n",
    "            // If `require`'s first argument evaluates to `false` then the\n",
    "            // transaction will revert.\n",
    "            require(balances[msg.sender] >= amount, \"Not enough tokens\");\n",
    "\n",
    "            // Transfer the amount.\n",
    "            balances[msg.sender] -= amount;\n",
    "            balances[to] += amount;\n",
    "        }\n",
    "\n",
    "        /**\n",
    "         * Read only function to retrieve the token balance of a given account.\n",
    "         *\n",
    "         * The `view` modifier indicates that it doesn't modify the contract's\n",
    "         * state, which allows us to call it without executing a transaction.\n",
    "         */\n",
    "        function balanceOf(address account) external view returns (uint256) {\n",
    "            return balances[account];\n",
    "        }\n",
    "    }\n",
    "```\n",
    "***"
   ]
  },
  {
   "cell_type": "markdown",
   "id": "51d5175b",
   "metadata": {},
   "source": [
    "## Compile the Smart Contract<a id=\"Compile-the-Smart-Contract\">\n",
    "- Compile the smart contract with <code>npx hardhat compile</code>\n",
    "\n",
    "<img src=\"./img/Token_sol_compile.png\" alt=\"compile Token.sol\"><br>\n",
    "***"
   ]
  },
  {
   "cell_type": "markdown",
   "id": "61a72f79",
   "metadata": {},
   "source": [
    "[Top of Page](#Top-of-Page)<br>\n",
    "[Contents](#Contents)<br>\n",
    "[Write a Token Smart Contract](#Write-a-Token-Smart-Contract)<br>\n",
    "[Compile the Smart Contract](#Compile-the-Smart-Contract)<br>\n",
    "<a id=\"Bottom-of-Page\"></a>"
   ]
  }
 ],
 "metadata": {
  "kernelspec": {
   "display_name": "Python (dev)",
   "language": "python",
   "name": "dev"
  }
 },
 "nbformat": 4,
 "nbformat_minor": 5
}
