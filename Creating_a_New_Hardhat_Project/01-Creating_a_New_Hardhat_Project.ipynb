{
 "cells": [
  {
   "cell_type": "markdown",
   "id": "2e8e3f5a",
   "metadata": {},
   "source": [
    "# Creating a New Hardhat Project<a id=\"Top-of-Page\">\n",
    "***\n",
    "## Cotents<a id=\"Contents\">\n",
    "[Initialize NPM Project](#Initialize-NPM-Project)<br>\n",
    "\n",
    "[Install Hardhat and Plugins](#Install-Hardhat-and-Plugins)<br>\n",
    " - [Hardhat Installation](#Hardhat-Installation)<br>\n",
    " - [Plugins Installation](#Plugins-Installation)<br>\n",
    "    \n",
    "[Add .gitignore](#Add-.gitignore)<br>\n",
    "[Bottom of Page](#Bottom-of-Page)<br>\n",
    "\n",
    "***"
   ]
  },
  {
   "cell_type": "markdown",
   "id": "d387364d",
   "metadata": {},
   "source": [
    "## Initialize NPM Project<a id=\"Initialize-NPM-Project\">\n",
    "- In the project folder, run the command <code>npm init</code>, or <code>npm init --yes</code> to use the npm project defaults.\n",
    "\n",
    "<img src=\"./img/npm_init.png\" alt=\"npm init\"><br>\n",
    "This will then create the below file:\n",
    "\n",
    "<img src=\"./img/npm_package_json.png\" alt=\"npm package.json\"><br>\n",
    "***"
   ]
  },
  {
   "cell_type": "markdown",
   "id": "23d3ddc2",
   "metadata": {},
   "source": [
    "## Install Hardhat and Plugins<a id=\"Install-Hardhat-and-Plugins\">\n",
    "***\n",
    "### Hardhat Installation<a id=\"Hardhat-Installation\">\n",
    "- Install Hardhat with the command <code>npm install --save-dev hardhat</code>\n",
    "\n",
    "<img src=\"./img/npm_install_hardhat.png\" alt=\"npm install hardhat\"><br>\n",
    "- Run the command <code>npx hardhat</code> and select <code>Create an empty hardhat.config.js</code>\n",
    "\n",
    "<img src=\"./img/npx_hardhat.png\" alt=\"npx hardhat\"><br>\n",
    "This will create the following default Hardhat configuration file:\n",
    "\n",
    "<img src=\"./img/hardhat_default_config.png\" alt=\"hardhat config\"><br>\n",
    "### Plugins Installation<a id=\"Plugins-Installation\">\n",
    "<strong>Hardhat</strong> is unopinionated in terms of what tools you end up using, but it does come with some built-in defaults. All of which can be overridden. Most of the time the way to use a given tool is by consuming a plugin that integrate it into <strong>Hardhat</strong>.<br><br>\n",
    "Here, we are going to use the <strong>Ethers.js</strong> and <strong>Waffle</stong> plugins. They'll allow us to interact with Ethereum and to test our contracts.<br><br>\n",
    "- To install the noted plugins, run the command:<br><code>npm install --save-dev @nomiclabs/hardhat-ethers ethers @nomiclabs/hardhat-waffle ethereum-waffle chai</code>\n",
    "- Then, add the line <code>require(\"@nomiclabs/hardhat-waffle\");</code> to the top of your <code><a href=\"../hardhat.config.js\" target=\"_blank\">hardhat.config.js</a></code> so that it looks like this:\n",
    "\n",
    "<img src=\"./img/01_hardhat_config.png\" alt=\"updated hardhat.config.js\"><br>\n",
    "<code>hardhat-waffle</code> depends on <code>hardhat-ethers</code>, so requiring <code>hardhat-waffle</code> is only necessary.\n",
    "***"
   ]
  },
  {
   "cell_type": "markdown",
   "id": "a0ca5944",
   "metadata": {},
   "source": [
    "## Add .gitignore<a id=\"Add-.gitignore\">\n",
    "If the root path containing the above created Hardhat project is also a git repo, you should add a <code>.gitignore</code> file.<br>\n",
    "- Use the following <code><a href=\"../.gitignore\" target=\"_blank\">.gitignore</a></code> as a base template.\n",
    "***\n"
   ]
  },
  {
   "cell_type": "markdown",
   "id": "1011143d",
   "metadata": {},
   "source": [
    "[Top of Page](#Top-of-Page)<br>\n",
    "[Contents](#Contents)<br>\n",
    "[Initialize NPM Project](#Initialize-NPM-Project)<br>\n",
    "\n",
    "[Install Hardhat and Plugins](#Install-Hardhat-and-Plugins)<br>\n",
    " - [Hardhat Installation](#Hardhat-Installation)<br>\n",
    " - [Plugins Installation](#Plugins-Installation)<br>\n",
    "    \n",
    "[Add .gitignore](#Add-.gitignore)<br>\n",
    "<a id=\"Bottom-of-Page\"></a>"
   ]
  }
 ],
 "metadata": {
  "kernelspec": {
   "display_name": "Python (dev)",
   "language": "python",
   "name": "dev"
  }
 },
 "nbformat": 4,
 "nbformat_minor": 5
}
